{
  "nbformat": 4,
  "nbformat_minor": 0,
  "metadata": {
    "colab": {
      "provenance": [],
      "authorship_tag": "ABX9TyOnKrwW8/AnizyNbTfp0nqF",
      "include_colab_link": true
    },
    "kernelspec": {
      "name": "python3",
      "display_name": "Python 3"
    },
    "language_info": {
      "name": "python"
    }
  },
  "cells": [
    {
      "cell_type": "markdown",
      "metadata": {
        "id": "view-in-github",
        "colab_type": "text"
      },
      "source": [
        "<a href=\"https://colab.research.google.com/github/debg48/pytorch_for_beginners/blob/main/PyTorchBasic1.ipynb\" target=\"_parent\"><img src=\"https://colab.research.google.com/assets/colab-badge.svg\" alt=\"Open In Colab\"/></a>"
      ]
    },
    {
      "cell_type": "markdown",
      "source": [
        "# Linear Regression from scratch using PyTorch"
      ],
      "metadata": {
        "id": "Wrojw4yE5vqH"
      }
    },
    {
      "cell_type": "markdown",
      "source": [
        "We will only consider weight and not bias in this example"
      ],
      "metadata": {
        "id": "KdoOH91q7j4V"
      }
    },
    {
      "cell_type": "code",
      "source": [
        "import torch"
      ],
      "metadata": {
        "id": "kI0lJhU75u8_"
      },
      "execution_count": 1,
      "outputs": []
    },
    {
      "cell_type": "code",
      "source": [
        "X = torch.tensor([1,2,3,4],dtype=torch.float32)\n",
        "Y = torch.tensor([2,4,6,8],dtype=torch.float32)"
      ],
      "metadata": {
        "id": "TL22YVIG5vEC"
      },
      "execution_count": 2,
      "outputs": []
    },
    {
      "cell_type": "code",
      "source": [
        "w = torch.tensor(0.00,dtype=torch.float32,requires_grad=True)"
      ],
      "metadata": {
        "id": "vecb3oz16eze"
      },
      "execution_count": 4,
      "outputs": []
    },
    {
      "cell_type": "code",
      "source": [
        "# model prediction \n",
        "\n",
        "def forward(x):\n",
        "  return w*x"
      ],
      "metadata": {
        "id": "Pe-lbRCH6nhq"
      },
      "execution_count": 5,
      "outputs": []
    },
    {
      "cell_type": "code",
      "source": [
        "# loss (MSE)\n",
        "\n",
        "def loss(y,y_pred):\n",
        "  return ((y_pred-y)**2).mean()"
      ],
      "metadata": {
        "id": "3J_ZMbZJ7HCo"
      },
      "execution_count": 6,
      "outputs": []
    },
    {
      "cell_type": "code",
      "source": [
        "# training\n",
        "\n",
        "learning_rate =0.01\n",
        "n_iters= 20\n",
        "\n",
        "for epoch in range(n_iters):\n",
        "  # forward pass\n",
        "  y_preds=forward(X)\n",
        "\n",
        "  # loss\n",
        "  l=loss(Y,y_preds) \n",
        "\n",
        "  # gradients = backward pass\n",
        "  l.backward() #dw/dl\n",
        "\n",
        "  # update weights\n",
        "  with torch.no_grad(): #we should ensure weight updation is not a part of the gradient tracking\n",
        "    w -= learning_rate*w.grad\n",
        "\n",
        "  # empty gradients\n",
        "  w.grad.zero_()\n",
        "\n",
        "  if (epoch+1)%2==0:\n",
        "    print(f'Epoch : {epoch + 1}  w : {w:.3f}  loss : {l:.8f}')"
      ],
      "metadata": {
        "colab": {
          "base_uri": "https://localhost:8080/"
        },
        "id": "EkbVOCA57aND",
        "outputId": "dc97e32a-a21d-4250-f05a-a3be83d92cea"
      },
      "execution_count": 11,
      "outputs": [
        {
          "output_type": "stream",
          "name": "stdout",
          "text": [
            "Epoch : 2  w : 1.998  loss : 0.00004891\n",
            "Epoch : 4  w : 1.998  loss : 0.00002553\n",
            "Epoch : 6  w : 1.999  loss : 0.00001333\n",
            "Epoch : 8  w : 1.999  loss : 0.00000696\n",
            "Epoch : 10  w : 1.999  loss : 0.00000363\n",
            "Epoch : 12  w : 2.000  loss : 0.00000190\n",
            "Epoch : 14  w : 2.000  loss : 0.00000099\n",
            "Epoch : 16  w : 2.000  loss : 0.00000052\n",
            "Epoch : 18  w : 2.000  loss : 0.00000027\n",
            "Epoch : 20  w : 2.000  loss : 0.00000014\n"
          ]
        }
      ]
    },
    {
      "cell_type": "code",
      "source": [],
      "metadata": {
        "id": "2DQSeFbm8ZaL"
      },
      "execution_count": null,
      "outputs": []
    }
  ]
}