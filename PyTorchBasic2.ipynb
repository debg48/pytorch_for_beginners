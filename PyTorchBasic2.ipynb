{
  "nbformat": 4,
  "nbformat_minor": 0,
  "metadata": {
    "colab": {
      "provenance": [],
      "authorship_tag": "ABX9TyNvWcKiEperLWt1BEZz+FnL",
      "include_colab_link": true
    },
    "kernelspec": {
      "name": "python3",
      "display_name": "Python 3"
    },
    "language_info": {
      "name": "python"
    }
  },
  "cells": [
    {
      "cell_type": "markdown",
      "metadata": {
        "id": "view-in-github",
        "colab_type": "text"
      },
      "source": [
        "<a href=\"https://colab.research.google.com/github/debg48/pytorch_for_beginners/blob/main/PyTorchBasic2.ipynb\" target=\"_parent\"><img src=\"https://colab.research.google.com/assets/colab-badge.svg\" alt=\"Open In Colab\"/></a>"
      ]
    },
    {
      "cell_type": "markdown",
      "source": [
        "# Linear Regression from scratch using PyTorch"
      ],
      "metadata": {
        "id": "Wrojw4yE5vqH"
      }
    },
    {
      "cell_type": "markdown",
      "source": [
        "We will only consider weight and not bias in this example\n",
        "\n",
        "Now we won't implement Loss Function and Optimizer from scratch instead we will use the torch.nn module and torch.optim module respectively"
      ],
      "metadata": {
        "id": "KdoOH91q7j4V"
      }
    },
    {
      "cell_type": "code",
      "source": [
        "import torch\n",
        "import torch.nn as nn"
      ],
      "metadata": {
        "id": "kI0lJhU75u8_"
      },
      "execution_count": 1,
      "outputs": []
    },
    {
      "cell_type": "code",
      "source": [
        "X = torch.tensor([1,2,3,4],dtype=torch.float32)\n",
        "Y = torch.tensor([2,4,6,8],dtype=torch.float32)"
      ],
      "metadata": {
        "id": "TL22YVIG5vEC"
      },
      "execution_count": 2,
      "outputs": []
    },
    {
      "cell_type": "code",
      "source": [
        "w = torch.tensor(0.00,dtype=torch.float32,requires_grad=True)"
      ],
      "metadata": {
        "id": "vecb3oz16eze"
      },
      "execution_count": 3,
      "outputs": []
    },
    {
      "cell_type": "code",
      "source": [
        "# model prediction \n",
        "\n",
        "def forward(x):\n",
        "  return w*x"
      ],
      "metadata": {
        "id": "Pe-lbRCH6nhq"
      },
      "execution_count": 4,
      "outputs": []
    },
    {
      "cell_type": "code",
      "source": [
        "# training\n",
        "\n",
        "learning_rate =0.01\n",
        "n_iters= 20\n",
        "\n",
        "loss=nn.MSELoss()\n",
        "optimizer=torch.optim.SGD([w],lr=learning_rate)\n",
        "\n",
        "for epoch in range(n_iters):\n",
        "  # forward pass\n",
        "  y_preds=forward(X)\n",
        "\n",
        "  # loss\n",
        "  l=loss(Y,y_preds) \n",
        "\n",
        "  # gradients = backward pass\n",
        "  l.backward() #dw/dl\n",
        "\n",
        "  # update weights\n",
        "  optimizer.step()\n",
        "\n",
        "  # empty gradients\n",
        "  optimizer.zero_grad()\n",
        "\n",
        "  if (epoch+1)%2==0:\n",
        "    print(f'Epoch : {epoch + 1}  w : {w:.3f}  loss : {l:.8f}')"
      ],
      "metadata": {
        "colab": {
          "base_uri": "https://localhost:8080/"
        },
        "id": "EkbVOCA57aND",
        "outputId": "a3c87cbf-eca6-454d-a925-a5538e982a9d"
      },
      "execution_count": 6,
      "outputs": [
        {
          "output_type": "stream",
          "name": "stdout",
          "text": [
            "Epoch : 2  w : 1.027  loss : 9.83268738\n",
            "Epoch : 4  w : 1.297  loss : 5.13272476\n",
            "Epoch : 6  w : 1.492  loss : 2.67931390\n",
            "Epoch : 8  w : 1.633  loss : 1.39861834\n",
            "Epoch : 10  w : 1.735  loss : 0.73008740\n",
            "Epoch : 12  w : 1.808  loss : 0.38111043\n",
            "Epoch : 14  w : 1.862  loss : 0.19894177\n",
            "Epoch : 16  w : 1.900  loss : 0.10384874\n",
            "Epoch : 18  w : 1.928  loss : 0.05420960\n",
            "Epoch : 20  w : 1.948  loss : 0.02829768\n"
          ]
        }
      ]
    },
    {
      "cell_type": "code",
      "source": [],
      "metadata": {
        "id": "2DQSeFbm8ZaL"
      },
      "execution_count": null,
      "outputs": []
    }
  ]
}