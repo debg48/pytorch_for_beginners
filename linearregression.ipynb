{
  "nbformat": 4,
  "nbformat_minor": 0,
  "metadata": {
    "colab": {
      "provenance": [],
      "authorship_tag": "ABX9TyO+4slDNePHv36bU9TuPFc0",
      "include_colab_link": true
    },
    "kernelspec": {
      "name": "python3",
      "display_name": "Python 3"
    },
    "language_info": {
      "name": "python"
    }
  },
  "cells": [
    {
      "cell_type": "markdown",
      "metadata": {
        "id": "view-in-github",
        "colab_type": "text"
      },
      "source": [
        "<a href=\"https://colab.research.google.com/github/debg48/pytorch_for_beginners/blob/main/linearregression.ipynb\" target=\"_parent\"><img src=\"https://colab.research.google.com/assets/colab-badge.svg\" alt=\"Open In Colab\"/></a>"
      ]
    },
    {
      "cell_type": "markdown",
      "source": [
        "# Linear Regression\n"
      ],
      "metadata": {
        "id": "P2oH7zRdCqED"
      }
    },
    {
      "cell_type": "code",
      "execution_count": 1,
      "metadata": {
        "id": "ZQwt7x3kZ0LS"
      },
      "outputs": [],
      "source": [
        "import torch \n",
        "import torch.nn as nn \n",
        "import numpy as np\n",
        "from sklearn import datasets\n",
        "import matplotlib.pyplot as plt"
      ]
    },
    {
      "cell_type": "markdown",
      "source": [
        "We generate our data using datasets"
      ],
      "metadata": {
        "id": "uW4cllJzCuiw"
      }
    },
    {
      "cell_type": "code",
      "source": [
        "X_numpy,Y_numpy = datasets.make_regression(n_samples=1000,n_features=1,noise=20,random_state=1)"
      ],
      "metadata": {
        "id": "De-FbCX-a_4g"
      },
      "execution_count": 2,
      "outputs": []
    },
    {
      "cell_type": "markdown",
      "source": [
        "Convert numpy to tensor"
      ],
      "metadata": {
        "id": "mi8ZFCZWCze6"
      }
    },
    {
      "cell_type": "code",
      "source": [
        "X = torch.from_numpy(X_numpy.astype(np.float32))\n",
        "Y = torch.from_numpy(Y_numpy.astype(np.float32))"
      ],
      "metadata": {
        "id": "JJW2a7-LCSDO"
      },
      "execution_count": 3,
      "outputs": []
    },
    {
      "cell_type": "markdown",
      "source": [
        "Make Y a column vector"
      ],
      "metadata": {
        "id": "edk7mz5wDK9Y"
      }
    },
    {
      "cell_type": "code",
      "source": [
        "Y.shape"
      ],
      "metadata": {
        "colab": {
          "base_uri": "https://localhost:8080/"
        },
        "id": "34nBymo_DA70",
        "outputId": "fe45e0cf-4ef3-45ec-f88a-5428c0329226"
      },
      "execution_count": 5,
      "outputs": [
        {
          "output_type": "execute_result",
          "data": {
            "text/plain": [
              "torch.Size([1000])"
            ]
          },
          "metadata": {},
          "execution_count": 5
        }
      ]
    },
    {
      "cell_type": "code",
      "source": [
        "Y=Y.view(Y.shape[0],1)"
      ],
      "metadata": {
        "id": "COoQ46AjCntn"
      },
      "execution_count": 6,
      "outputs": []
    },
    {
      "cell_type": "code",
      "source": [
        "Y.shape"
      ],
      "metadata": {
        "colab": {
          "base_uri": "https://localhost:8080/"
        },
        "id": "OaAUY0g3DHsz",
        "outputId": "55be77e8-75eb-46f4-c999-c5b0f390b7cb"
      },
      "execution_count": 7,
      "outputs": [
        {
          "output_type": "execute_result",
          "data": {
            "text/plain": [
              "torch.Size([1000, 1])"
            ]
          },
          "metadata": {},
          "execution_count": 7
        }
      ]
    },
    {
      "cell_type": "code",
      "source": [
        "n_samples,n_features=X.shape"
      ],
      "metadata": {
        "id": "eV0QsHdDDJKd"
      },
      "execution_count": 8,
      "outputs": []
    },
    {
      "cell_type": "markdown",
      "source": [
        "Specify the input and output size of model"
      ],
      "metadata": {
        "id": "ctgBAUxqDn2h"
      }
    },
    {
      "cell_type": "code",
      "source": [
        "input_size = n_features\n",
        "output_size = 1"
      ],
      "metadata": {
        "id": "Szw2zab-DVFm"
      },
      "execution_count": 9,
      "outputs": []
    },
    {
      "cell_type": "markdown",
      "source": [
        "## Model"
      ],
      "metadata": {
        "id": "ObO6D2PZD_wh"
      }
    },
    {
      "cell_type": "code",
      "source": [
        "model = nn.Linear(input_size,output_size)"
      ],
      "metadata": {
        "id": "Fs6h5PF_D_HQ"
      },
      "execution_count": 11,
      "outputs": []
    },
    {
      "cell_type": "markdown",
      "source": [
        "learning rate"
      ],
      "metadata": {
        "id": "DcL5CKEvEk4h"
      }
    },
    {
      "cell_type": "code",
      "source": [
        "lr =0.01"
      ],
      "metadata": {
        "id": "E0vCvJaDELTj"
      },
      "execution_count": null,
      "outputs": []
    }
  ]
}