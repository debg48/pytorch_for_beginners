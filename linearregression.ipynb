{
  "nbformat": 4,
  "nbformat_minor": 0,
  "metadata": {
    "colab": {
      "provenance": [],
      "authorship_tag": "ABX9TyOUkmWqdUGTA/ojVAAZ6+hE",
      "include_colab_link": true
    },
    "kernelspec": {
      "name": "python3",
      "display_name": "Python 3"
    },
    "language_info": {
      "name": "python"
    }
  },
  "cells": [
    {
      "cell_type": "markdown",
      "metadata": {
        "id": "view-in-github",
        "colab_type": "text"
      },
      "source": [
        "<a href=\"https://colab.research.google.com/github/debg48/pytorch_for_beginners/blob/main/linearregression.ipynb\" target=\"_parent\"><img src=\"https://colab.research.google.com/assets/colab-badge.svg\" alt=\"Open In Colab\"/></a>"
      ]
    },
    {
      "cell_type": "markdown",
      "source": [
        "# Linear Regression\n"
      ],
      "metadata": {
        "id": "P2oH7zRdCqED"
      }
    },
    {
      "cell_type": "code",
      "execution_count": 1,
      "metadata": {
        "id": "ZQwt7x3kZ0LS"
      },
      "outputs": [],
      "source": [
        "import torch \n",
        "import torch.nn as nn \n",
        "import numpy as np\n",
        "from sklearn import datasets\n",
        "import matplotlib.pyplot as plt"
      ]
    },
    {
      "cell_type": "markdown",
      "source": [
        "We generate our data using datasets"
      ],
      "metadata": {
        "id": "uW4cllJzCuiw"
      }
    },
    {
      "cell_type": "code",
      "source": [
        "X_numpy,Y_numpy = datasets.make_regression(n_samples=1000,n_features=1,noise=20,random_state=1)"
      ],
      "metadata": {
        "id": "De-FbCX-a_4g"
      },
      "execution_count": 2,
      "outputs": []
    },
    {
      "cell_type": "markdown",
      "source": [
        "Convert numpy to tensor"
      ],
      "metadata": {
        "id": "mi8ZFCZWCze6"
      }
    },
    {
      "cell_type": "code",
      "source": [
        "X = torch.from_numpy(X_numpy.astype(np.float32))\n",
        "Y = torch.from_numpy(Y_numpy.astype(np.float32))"
      ],
      "metadata": {
        "id": "JJW2a7-LCSDO"
      },
      "execution_count": 3,
      "outputs": []
    },
    {
      "cell_type": "markdown",
      "source": [
        "Make Y a column vector"
      ],
      "metadata": {
        "id": "edk7mz5wDK9Y"
      }
    },
    {
      "cell_type": "code",
      "source": [
        "Y.shape"
      ],
      "metadata": {
        "colab": {
          "base_uri": "https://localhost:8080/"
        },
        "id": "34nBymo_DA70",
        "outputId": "fe45e0cf-4ef3-45ec-f88a-5428c0329226"
      },
      "execution_count": 5,
      "outputs": [
        {
          "output_type": "execute_result",
          "data": {
            "text/plain": [
              "torch.Size([1000])"
            ]
          },
          "metadata": {},
          "execution_count": 5
        }
      ]
    },
    {
      "cell_type": "code",
      "source": [
        "Y=Y.view(Y.shape[0],1)"
      ],
      "metadata": {
        "id": "COoQ46AjCntn"
      },
      "execution_count": 6,
      "outputs": []
    },
    {
      "cell_type": "code",
      "source": [
        "Y.shape"
      ],
      "metadata": {
        "colab": {
          "base_uri": "https://localhost:8080/"
        },
        "id": "OaAUY0g3DHsz",
        "outputId": "55be77e8-75eb-46f4-c999-c5b0f390b7cb"
      },
      "execution_count": 7,
      "outputs": [
        {
          "output_type": "execute_result",
          "data": {
            "text/plain": [
              "torch.Size([1000, 1])"
            ]
          },
          "metadata": {},
          "execution_count": 7
        }
      ]
    },
    {
      "cell_type": "code",
      "source": [
        "n_samples,n_features=X.shape"
      ],
      "metadata": {
        "id": "eV0QsHdDDJKd"
      },
      "execution_count": 8,
      "outputs": []
    },
    {
      "cell_type": "markdown",
      "source": [
        "Specify the input and output size of model"
      ],
      "metadata": {
        "id": "ctgBAUxqDn2h"
      }
    },
    {
      "cell_type": "code",
      "source": [
        "input_size = n_features\n",
        "output_size = 1"
      ],
      "metadata": {
        "id": "Szw2zab-DVFm"
      },
      "execution_count": 9,
      "outputs": []
    },
    {
      "cell_type": "markdown",
      "source": [
        "## Model"
      ],
      "metadata": {
        "id": "ObO6D2PZD_wh"
      }
    },
    {
      "cell_type": "code",
      "source": [
        "model = nn.Linear(input_size,output_size)"
      ],
      "metadata": {
        "id": "Fs6h5PF_D_HQ"
      },
      "execution_count": 11,
      "outputs": []
    },
    {
      "cell_type": "markdown",
      "source": [
        "learning rate"
      ],
      "metadata": {
        "id": "DcL5CKEvEk4h"
      }
    },
    {
      "cell_type": "code",
      "source": [
        "lr =0.01"
      ],
      "metadata": {
        "id": "E0vCvJaDELTj"
      },
      "execution_count": 12,
      "outputs": []
    },
    {
      "cell_type": "markdown",
      "source": [
        "loss and optimizer"
      ],
      "metadata": {
        "id": "i5VPV5QqGsZk"
      }
    },
    {
      "cell_type": "code",
      "source": [
        "mse=nn.MSELoss()\n",
        "optimizer = torch.optim.SGD(model.parameters(),lr)"
      ],
      "metadata": {
        "id": "XdpFjnvSFBTG"
      },
      "execution_count": 13,
      "outputs": []
    },
    {
      "cell_type": "markdown",
      "source": [
        "training loop\n"
      ],
      "metadata": {
        "id": "AbNpJFoRGrbj"
      }
    },
    {
      "cell_type": "code",
      "source": [
        "num_epochs = 100"
      ],
      "metadata": {
        "id": "8RJEpiWqFcWz"
      },
      "execution_count": 14,
      "outputs": []
    },
    {
      "cell_type": "code",
      "source": [
        "for epoch in range(num_epochs):\n",
        "\n",
        "  # forward pass\n",
        "  y_preds=model(X)\n",
        "\n",
        "  # loss\n",
        "  loss = mse(y_preds,Y)\n",
        "\n",
        "  # backward pass\n",
        "  loss.backward()\n",
        "\n",
        "  # weight update\n",
        "  optimizer.step()\n",
        "\n",
        "  optimizer.zero_grad()\n",
        "\n",
        "  if (epoch+1) % 10 == 0:\n",
        "    print(f'epoch : {epoch + 1} -> loss : {loss.item():.4f}')\n"
      ],
      "metadata": {
        "colab": {
          "base_uri": "https://localhost:8080/"
        },
        "id": "hxt4N4geGz_I",
        "outputId": "ae39fc2c-7670-4ec9-c7ea-97577ea3cbc0"
      },
      "execution_count": 15,
      "outputs": [
        {
          "output_type": "stream",
          "name": "stdout",
          "text": [
            "epoch : 10 -> loss : 1414.5657\n",
            "epoch : 20 -> loss : 1087.1372\n",
            "epoch : 30 -> loss : 865.6670\n",
            "epoch : 40 -> loss : 715.8256\n",
            "epoch : 50 -> loss : 614.4195\n",
            "epoch : 60 -> loss : 545.7740\n",
            "epoch : 70 -> loss : 499.2932\n",
            "epoch : 80 -> loss : 467.8124\n",
            "epoch : 90 -> loss : 446.4855\n",
            "epoch : 100 -> loss : 432.0338\n"
          ]
        }
      ]
    },
    {
      "cell_type": "markdown",
      "source": [
        "Plotting Results"
      ],
      "metadata": {
        "id": "ad0wMfZHJGiW"
      }
    },
    {
      "cell_type": "code",
      "source": [
        "preds = model(X).detach().numpy()"
      ],
      "metadata": {
        "id": "u8K1XE-2H3Ct"
      },
      "execution_count": 16,
      "outputs": []
    },
    {
      "cell_type": "code",
      "source": [
        "plt.plot(X_numpy,Y_numpy,'ro')\n",
        "plt.plot(X_numpy,preds)\n",
        "plt.show()"
      ],
      "metadata": {
        "colab": {
          "base_uri": "https://localhost:8080/",
          "height": 265
        },
        "id": "7ZtUAm_GJQHU",
        "outputId": "41fb43c0-e836-416e-d97c-ae5c8c9ce4c7"
      },
      "execution_count": 17,
      "outputs": [
        {
          "output_type": "display_data",
          "data": {
            "text/plain": [
              "<Figure size 432x288 with 1 Axes>"
            ],
            "image/png": "[encoded data removed]"
          },
          "metadata": {
            "needs_background": "light"
          }
        }
      ]
    },
    {
      "cell_type": "code",
      "source": [],
      "metadata": {
        "id": "SMd1UA9HJy6f"
      },
      "execution_count": null,
      "outputs": []
    }
  ]
}