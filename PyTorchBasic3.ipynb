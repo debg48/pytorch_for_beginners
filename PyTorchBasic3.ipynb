{
  "nbformat": 4,
  "nbformat_minor": 0,
  "metadata": {
    "colab": {
      "provenance": [],
      "authorship_tag": "ABX9TyPH7AYU1m+4F9C1TNmQEPFQ",
      "include_colab_link": true
    },
    "kernelspec": {
      "name": "python3",
      "display_name": "Python 3"
    },
    "language_info": {
      "name": "python"
    }
  },
  "cells": [
    {
      "cell_type": "markdown",
      "metadata": {
        "id": "view-in-github",
        "colab_type": "text"
      },
      "source": [
        "<a href=\"https://colab.research.google.com/github/debg48/pytorch_for_beginners/blob/main/PyTorchBasic3.ipynb\" target=\"_parent\"><img src=\"https://colab.research.google.com/assets/colab-badge.svg\" alt=\"Open In Colab\"/></a>"
      ]
    },
    {
      "cell_type": "markdown",
      "source": [
        "# Linear Regression using PyTorch"
      ],
      "metadata": {
        "id": "Wrojw4yE5vqH"
      }
    },
    {
      "cell_type": "markdown",
      "source": [
        "We will only consider weight and not bias in this example\n",
        "\n",
        "Now we won't implement Loss Function and Optimizer from scratch instead we will use the torch.nn module and torch.optim module respectively\n",
        "\n",
        "We will use PyTorch model in this case"
      ],
      "metadata": {
        "id": "KdoOH91q7j4V"
      }
    },
    {
      "cell_type": "code",
      "source": [
        "import torch\n",
        "import torch.nn as nn"
      ],
      "metadata": {
        "id": "kI0lJhU75u8_"
      },
      "execution_count": 1,
      "outputs": []
    },
    {
      "cell_type": "code",
      "source": [
        "# now for using nn.Linear model our tensors needs to be 2D tensors\n",
        "X = torch.tensor([[1],[2],[3],[4]],dtype=torch.float32)\n",
        "Y = torch.tensor([[2],[4],[6],[8]],dtype=torch.float32)"
      ],
      "metadata": {
        "id": "TL22YVIG5vEC"
      },
      "execution_count": 2,
      "outputs": []
    },
    {
      "cell_type": "code",
      "source": [
        "n_samples,n_features= X.shape"
      ],
      "metadata": {
        "id": "KnL45_LED2rD"
      },
      "execution_count": 3,
      "outputs": []
    },
    {
      "cell_type": "code",
      "source": [
        "input_size=n_features\n",
        "output_size=n_features"
      ],
      "metadata": {
        "id": "xEXnVrNdD9c7"
      },
      "execution_count": 4,
      "outputs": []
    },
    {
      "cell_type": "code",
      "source": [
        "# model \n",
        "\n",
        "model = nn.Linear(input_size,output_size)"
      ],
      "metadata": {
        "id": "Pe-lbRCH6nhq"
      },
      "execution_count": 5,
      "outputs": []
    },
    {
      "cell_type": "code",
      "source": [
        "# training\n",
        "\n",
        "learning_rate =0.01\n",
        "n_iters= 20\n",
        "\n",
        "loss=nn.MSELoss()\n",
        "optimizer=torch.optim.SGD(model.parameters(),lr=learning_rate)\n",
        "\n",
        "for epoch in range(n_iters):\n",
        "  # forward pass\n",
        "  y_preds=model(X)\n",
        "\n",
        "  # loss\n",
        "  l=loss(Y,y_preds) \n",
        "\n",
        "  # gradients = backward pass\n",
        "  l.backward() #dw/dl\n",
        "\n",
        "  # update weights\n",
        "  optimizer.step()\n",
        "\n",
        "  # empty gradients\n",
        "  optimizer.zero_grad()\n",
        "\n",
        "  if (epoch+1)%2==0:\n",
        "    [w,b]=model.parameters()\n",
        "    print(f'Epoch : {epoch + 1}  w : {w[0][0].item():.3f}  loss : {l:.8f}')"
      ],
      "metadata": {
        "colab": {
          "base_uri": "https://localhost:8080/"
        },
        "id": "EkbVOCA57aND",
        "outputId": "f9f4f4c5-91a7-48f1-b8f8-750f2e6220ad"
      },
      "execution_count": 6,
      "outputs": [
        {
          "output_type": "stream",
          "name": "stdout",
          "text": [
            "Epoch : 2  w : 0.902  loss : 14.35145378\n",
            "Epoch : 4  w : 1.218  loss : 6.91284418\n",
            "Epoch : 6  w : 1.438  loss : 3.33135581\n",
            "Epoch : 8  w : 1.591  loss : 1.60694778\n",
            "Epoch : 10  w : 1.697  loss : 0.77666503\n",
            "Epoch : 12  w : 1.771  loss : 0.37687531\n",
            "Epoch : 14  w : 1.822  loss : 0.18435419\n",
            "Epoch : 16  w : 1.858  loss : 0.09162669\n",
            "Epoch : 18  w : 1.883  loss : 0.04694746\n",
            "Epoch : 20  w : 1.900  loss : 0.02540195\n"
          ]
        }
      ]
    },
    {
      "cell_type": "code",
      "source": [],
      "metadata": {
        "id": "2DQSeFbm8ZaL"
      },
      "execution_count": null,
      "outputs": []
    }
  ]
}