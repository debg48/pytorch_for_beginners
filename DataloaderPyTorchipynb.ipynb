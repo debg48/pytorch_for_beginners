{
  "nbformat": 4,
  "nbformat_minor": 0,
  "metadata": {
    "colab": {
      "provenance": [],
      "authorship_tag": "ABX9TyOguT6QMA/PFlKpbCOK53uF",
      "include_colab_link": true
    },
    "kernelspec": {
      "name": "python3",
      "display_name": "Python 3"
    },
    "language_info": {
      "name": "python"
    }
  },
  "cells": [
    {
      "cell_type": "markdown",
      "metadata": {
        "id": "view-in-github",
        "colab_type": "text"
      },
      "source": [
        "<a href=\"https://colab.research.google.com/github/debg48/pytorch_for_beginners/blob/main/DataloaderPyTorchipynb.ipynb\" target=\"_parent\"><img src=\"https://colab.research.google.com/assets/colab-badge.svg\" alt=\"Open In Colab\"/></a>"
      ]
    },
    {
      "cell_type": "markdown",
      "source": [
        "#Dataset and DataLoader"
      ],
      "metadata": {
        "id": "_LhVDOrgMqtc"
      }
    },
    {
      "cell_type": "code",
      "source": [
        "import torch\n",
        "import torchvision\n",
        "from torch.utils.data import Dataset,DataLoader\n",
        "import numpy as np\n",
        "import math"
      ],
      "metadata": {
        "id": "rCvrD-y04jri"
      },
      "execution_count": 1,
      "outputs": []
    },
    {
      "cell_type": "code",
      "source": [
        "class WineDataset(Dataset):\n",
        "\n",
        "  def __init__(self):\n",
        "    xy = np.loadtxt('/content/wine.csv',delimiter=\",\",dtype=np.float32,skiprows=1)\n",
        "    self.n_samples = xy.shape[0]\n",
        "    self.x_data = torch.from_numpy(xy[:,1:])\n",
        "    self.y_data =torch.from_numpy(xy[:,[0]])\n",
        "\n",
        "  def __getitem__(self,index):\n",
        "    return self.x_data[index],self.y_data[index]\n",
        "\n",
        "  def __len__(self):\n",
        "    return self.n_samples"
      ],
      "metadata": {
        "id": "ZvfcoBBO4xfX"
      },
      "execution_count": 6,
      "outputs": []
    },
    {
      "cell_type": "code",
      "source": [
        "dataset = WineDataset()"
      ],
      "metadata": {
        "id": "O2wrfPK1FCp_"
      },
      "execution_count": 7,
      "outputs": []
    },
    {
      "cell_type": "markdown",
      "source": [
        "Test the if everything is ok"
      ],
      "metadata": {
        "id": "sTU29WdkGED7"
      }
    },
    {
      "cell_type": "code",
      "source": [
        "first_data = dataset[0]\n",
        "features,labels = first_data\n",
        "features,labels"
      ],
      "metadata": {
        "colab": {
          "base_uri": "https://localhost:8080/"
        },
        "id": "8bA9TrmFGCo_",
        "outputId": "5ae2bbe3-1aeb-45bc-e6ec-fa8fdfea95c8"
      },
      "execution_count": 8,
      "outputs": [
        {
          "output_type": "execute_result",
          "data": {
            "text/plain": [
              "(tensor([1.4230e+01, 1.7100e+00, 2.4300e+00, 1.5600e+01, 1.2700e+02, 2.8000e+00,\n",
              "         3.0600e+00, 2.8000e-01, 2.2900e+00, 5.6400e+00, 1.0400e+00, 3.9200e+00,\n",
              "         1.0650e+03]),\n",
              " tensor([1.]))"
            ]
          },
          "metadata": {},
          "execution_count": 8
        }
      ]
    },
    {
      "cell_type": "markdown",
      "source": [
        "use Dataloader to create batches of data"
      ],
      "metadata": {
        "id": "cJ72QCg7GwG1"
      }
    },
    {
      "cell_type": "code",
      "source": [
        "dataloader = DataLoader(dataset=dataset,batch_size=4,shuffle=True,num_workers=2)"
      ],
      "metadata": {
        "id": "ISkBr8bTGPuu"
      },
      "execution_count": 9,
      "outputs": []
    },
    {
      "cell_type": "markdown",
      "source": [
        "Let us take a look at the reults"
      ],
      "metadata": {
        "id": "ukRbk1Z1HHGM"
      }
    },
    {
      "cell_type": "code",
      "source": [
        "dataiter=iter(dataloader)\n",
        "data=next(dataiter)\n",
        "features,labels=data\n",
        "features,labels"
      ],
      "metadata": {
        "colab": {
          "base_uri": "https://localhost:8080/"
        },
        "id": "uAABP_2THBZB",
        "outputId": "240c6e6e-f744-4515-b63e-28d4e5864c51"
      },
      "execution_count": 10,
      "outputs": [
        {
          "output_type": "execute_result",
          "data": {
            "text/plain": [
              "(tensor([[1.3400e+01, 3.9100e+00, 2.4800e+00, 2.3000e+01, 1.0200e+02, 1.8000e+00,\n",
              "          7.5000e-01, 4.3000e-01, 1.4100e+00, 7.3000e+00, 7.0000e-01, 1.5600e+00,\n",
              "          7.5000e+02],\n",
              "         [1.2000e+01, 1.5100e+00, 2.4200e+00, 2.2000e+01, 8.6000e+01, 1.4500e+00,\n",
              "          1.2500e+00, 5.0000e-01, 1.6300e+00, 3.6000e+00, 1.0500e+00, 2.6500e+00,\n",
              "          4.5000e+02],\n",
              "         [1.3480e+01, 1.8100e+00, 2.4100e+00, 2.0500e+01, 1.0000e+02, 2.7000e+00,\n",
              "          2.9800e+00, 2.6000e-01, 1.8600e+00, 5.1000e+00, 1.0400e+00, 3.4700e+00,\n",
              "          9.2000e+02],\n",
              "         [1.1960e+01, 1.0900e+00, 2.3000e+00, 2.1000e+01, 1.0100e+02, 3.3800e+00,\n",
              "          2.1400e+00, 1.3000e-01, 1.6500e+00, 3.2100e+00, 9.9000e-01, 3.1300e+00,\n",
              "          8.8600e+02]]),\n",
              " tensor([[3.],\n",
              "         [2.],\n",
              "         [1.],\n",
              "         [2.]]))"
            ]
          },
          "metadata": {},
          "execution_count": 10
        }
      ]
    },
    {
      "cell_type": "markdown",
      "source": [
        "Let us create a dummy training loop to get a better idea of how things work"
      ],
      "metadata": {
        "id": "tMU6bIkDHidT"
      }
    },
    {
      "cell_type": "code",
      "source": [
        "num_epochs = 2\n",
        "total_samples = len(dataset)\n",
        "n_iters = math.ceil(total_samples/4) # batch_size = 4 change accordingly\n",
        "print(total_samples,n_iters)\n",
        "for epoch in range(num_epochs):\n",
        "  for i ,(inputs,labels) in enumerate(dataloader):\n",
        "    if (i+1)%5==0:\n",
        "      print(f'Epoch : {epoch+1}/{num_epochs}, Step : {i+1}/{n_iters} | Input : {inputs.shape} | Output : {labels.shape}')"
      ],
      "metadata": {
        "colab": {
          "base_uri": "https://localhost:8080/"
        },
        "id": "HTPFLHf0HUnb",
        "outputId": "a07bd108-4eae-4bda-d84c-0825628e4bfe"
      },
      "execution_count": 22,
      "outputs": [
        {
          "output_type": "stream",
          "name": "stdout",
          "text": [
            "178 45\n",
            "Epoch : 1/2, Step : 5/45 | Input : torch.Size([4, 13]) | Output : torch.Size([4, 1])\n",
            "Epoch : 1/2, Step : 10/45 | Input : torch.Size([4, 13]) | Output : torch.Size([4, 1])\n",
            "Epoch : 1/2, Step : 15/45 | Input : torch.Size([4, 13]) | Output : torch.Size([4, 1])\n",
            "Epoch : 1/2, Step : 20/45 | Input : torch.Size([4, 13]) | Output : torch.Size([4, 1])\n",
            "Epoch : 1/2, Step : 25/45 | Input : torch.Size([4, 13]) | Output : torch.Size([4, 1])\n",
            "Epoch : 1/2, Step : 30/45 | Input : torch.Size([4, 13]) | Output : torch.Size([4, 1])\n",
            "Epoch : 1/2, Step : 35/45 | Input : torch.Size([4, 13]) | Output : torch.Size([4, 1])\n",
            "Epoch : 1/2, Step : 40/45 | Input : torch.Size([4, 13]) | Output : torch.Size([4, 1])\n",
            "Epoch : 1/2, Step : 45/45 | Input : torch.Size([2, 13]) | Output : torch.Size([2, 1])\n",
            "Epoch : 2/2, Step : 5/45 | Input : torch.Size([4, 13]) | Output : torch.Size([4, 1])\n",
            "Epoch : 2/2, Step : 10/45 | Input : torch.Size([4, 13]) | Output : torch.Size([4, 1])\n",
            "Epoch : 2/2, Step : 15/45 | Input : torch.Size([4, 13]) | Output : torch.Size([4, 1])\n",
            "Epoch : 2/2, Step : 20/45 | Input : torch.Size([4, 13]) | Output : torch.Size([4, 1])\n",
            "Epoch : 2/2, Step : 25/45 | Input : torch.Size([4, 13]) | Output : torch.Size([4, 1])\n",
            "Epoch : 2/2, Step : 30/45 | Input : torch.Size([4, 13]) | Output : torch.Size([4, 1])\n",
            "Epoch : 2/2, Step : 35/45 | Input : torch.Size([4, 13]) | Output : torch.Size([4, 1])\n",
            "Epoch : 2/2, Step : 40/45 | Input : torch.Size([4, 13]) | Output : torch.Size([4, 1])\n",
            "Epoch : 2/2, Step : 45/45 | Input : torch.Size([2, 13]) | Output : torch.Size([2, 1])\n"
          ]
        }
      ]
    },
    {
      "cell_type": "markdown",
      "source": [
        "We can also use built-in datasets from torchvison library"
      ],
      "metadata": {
        "id": "KW4irw3AKMOv"
      }
    },
    {
      "cell_type": "code",
      "source": [
        "train_dataset = torchvision.datasets.MNIST(root='./data',train=True,transform=torchvision.transforms.ToTensor(),download=True)"
      ],
      "metadata": {
        "colab": {
          "base_uri": "https://localhost:8080/"
        },
        "id": "tslPZAKgJmDC",
        "outputId": "4f1c970d-2086-4762-9366-500f24a54f76"
      },
      "execution_count": 16,
      "outputs": [
        {
          "output_type": "stream",
          "name": "stdout",
          "text": [
            "Downloading http://yann.lecun.com/exdb/mnist/train-images-idx3-ubyte.gz\n",
            "Downloading http://yann.lecun.com/exdb/mnist/train-images-idx3-ubyte.gz to ./data/MNIST/raw/train-images-idx3-ubyte.gz\n"
          ]
        },
        {
          "output_type": "stream",
          "name": "stderr",
          "text": [
            "100%|██████████| 9912422/9912422 [00:00<00:00, 83308709.33it/s]\n"
          ]
        },
        {
          "output_type": "stream",
          "name": "stdout",
          "text": [
            "Extracting ./data/MNIST/raw/train-images-idx3-ubyte.gz to ./data/MNIST/raw\n",
            "\n",
            "Downloading http://yann.lecun.com/exdb/mnist/train-labels-idx1-ubyte.gz\n",
            "Downloading http://yann.lecun.com/exdb/mnist/train-labels-idx1-ubyte.gz to ./data/MNIST/raw/train-labels-idx1-ubyte.gz\n"
          ]
        },
        {
          "output_type": "stream",
          "name": "stderr",
          "text": [
            "100%|██████████| 28881/28881 [00:00<00:00, 33124335.20it/s]\n"
          ]
        },
        {
          "output_type": "stream",
          "name": "stdout",
          "text": [
            "Extracting ./data/MNIST/raw/train-labels-idx1-ubyte.gz to ./data/MNIST/raw\n",
            "\n",
            "Downloading http://yann.lecun.com/exdb/mnist/t10k-images-idx3-ubyte.gz\n",
            "Downloading http://yann.lecun.com/exdb/mnist/t10k-images-idx3-ubyte.gz to ./data/MNIST/raw/t10k-images-idx3-ubyte.gz\n"
          ]
        },
        {
          "output_type": "stream",
          "name": "stderr",
          "text": [
            "100%|██████████| 1648877/1648877 [00:00<00:00, 20913644.88it/s]\n"
          ]
        },
        {
          "output_type": "stream",
          "name": "stdout",
          "text": [
            "Extracting ./data/MNIST/raw/t10k-images-idx3-ubyte.gz to ./data/MNIST/raw\n",
            "\n",
            "Downloading http://yann.lecun.com/exdb/mnist/t10k-labels-idx1-ubyte.gz\n",
            "Downloading http://yann.lecun.com/exdb/mnist/t10k-labels-idx1-ubyte.gz to ./data/MNIST/raw/t10k-labels-idx1-ubyte.gz\n"
          ]
        },
        {
          "output_type": "stream",
          "name": "stderr",
          "text": [
            "100%|██████████| 4542/4542 [00:00<00:00, 15551452.06it/s]\n"
          ]
        },
        {
          "output_type": "stream",
          "name": "stdout",
          "text": [
            "Extracting ./data/MNIST/raw/t10k-labels-idx1-ubyte.gz to ./data/MNIST/raw\n",
            "\n"
          ]
        }
      ]
    },
    {
      "cell_type": "code",
      "source": [
        "train_loader = DataLoader(dataset=train_dataset,\n",
        "                                           batch_size=3,\n",
        "                                           shuffle=True)"
      ],
      "metadata": {
        "id": "TMLbVbTQLGDt"
      },
      "execution_count": 17,
      "outputs": []
    },
    {
      "cell_type": "code",
      "source": [
        "num_epochs = 2\n",
        "total_samples = len(train_dataset)\n",
        "n_iters = math.ceil(total_samples/3) # batch_size = 3 change accordingly\n",
        "print(total_samples,n_iters)\n",
        "for epoch in range(num_epochs):\n",
        "  for i ,(inputs,labels) in enumerate(train_loader):\n",
        "    if (i+1)%5==0:\n",
        "      print(f'Epoch : {epoch+1}/{num_epochs}, Step : {i+1}/{n_iters} | Input : {inputs.shape} | Output : {labels.shape}')"
      ],
      "metadata": {
        "id": "Ik7DZoUmKjiU"
      },
      "execution_count": null,
      "outputs": []
    },
    {
      "cell_type": "markdown",
      "source": [
        "#Dataset Transforms"
      ],
      "metadata": {
        "id": "J61AQjL2Mvdr"
      }
    },
    {
      "cell_type": "markdown",
      "source": [
        "We modify our WineDataset class"
      ],
      "metadata": {
        "id": "S_3r_Z8xM_38"
      }
    },
    {
      "cell_type": "code",
      "source": [
        "class WineDataset(Dataset):\n",
        "\n",
        "  def __init__(self,transform=None):\n",
        "    xy = np.loadtxt('/content/wine.csv',delimiter=\",\",dtype=np.float32,skiprows=1)\n",
        "    self.n_samples = xy.shape[0]\n",
        "    self.x_data = xy[:,1:]\n",
        "    self.y_data = xy[:,[0]]\n",
        "    self.transform = transform\n",
        "\n",
        "  def __getitem__(self,index):\n",
        "    sample = self.x_data[index],self.y_data[index]\n",
        "    if self.transform :\n",
        "      sample = self.transform(sample)\n",
        "    return sample\n",
        "\n",
        "  def __len__(self):\n",
        "    return self.n_samples"
      ],
      "metadata": {
        "id": "cWN4HlQJLqm1"
      },
      "execution_count": 23,
      "outputs": []
    },
    {
      "cell_type": "markdown",
      "source": [
        "Let us create our own custom transform for converting numpy array to tensors"
      ],
      "metadata": {
        "id": "dN0HZechNllz"
      }
    },
    {
      "cell_type": "code",
      "source": [
        "class ToTensor:\n",
        "  def __call__(self,sample):\n",
        "    inputs,targets=sample\n",
        "    return torch.from_numpy(inputs),torch.from_numpy(targets)"
      ],
      "metadata": {
        "id": "fY52WevaNjQI"
      },
      "execution_count": 24,
      "outputs": []
    },
    {
      "cell_type": "code",
      "source": [
        "print(\"Without Transform : \")\n",
        "dataset = WineDataset()\n",
        "first_data = dataset[0]\n",
        "features,labels = first_data\n",
        "print(type(features),type(labels))\n",
        "print(features,labels)\n",
        "\n",
        "print(\"\\nWith Tensor : \")\n",
        "dataset = WineDataset(transform=ToTensor())\n",
        "first_data = dataset[0]\n",
        "features,labels = first_data\n",
        "print(type(features),type(labels))\n",
        "print(features,labels)"
      ],
      "metadata": {
        "colab": {
          "base_uri": "https://localhost:8080/"
        },
        "id": "YdS_cD_0N62s",
        "outputId": "af9a3746-4817-4ea7-9dfd-eb45d932e82f"
      },
      "execution_count": 26,
      "outputs": [
        {
          "output_type": "stream",
          "name": "stdout",
          "text": [
            "Without Transform : \n",
            "<class 'numpy.ndarray'> <class 'numpy.ndarray'>\n",
            "[1.423e+01 1.710e+00 2.430e+00 1.560e+01 1.270e+02 2.800e+00 3.060e+00\n",
            " 2.800e-01 2.290e+00 5.640e+00 1.040e+00 3.920e+00 1.065e+03] [1.]\n",
            "\n",
            "With Tensor : \n",
            "<class 'torch.Tensor'> <class 'torch.Tensor'>\n",
            "tensor([1.4230e+01, 1.7100e+00, 2.4300e+00, 1.5600e+01, 1.2700e+02, 2.8000e+00,\n",
            "        3.0600e+00, 2.8000e-01, 2.2900e+00, 5.6400e+00, 1.0400e+00, 3.9200e+00,\n",
            "        1.0650e+03]) tensor([1.])\n"
          ]
        }
      ]
    },
    {
      "cell_type": "code",
      "source": [
        "class MulTransform:\n",
        "\n",
        "  def __init__(self,factor):\n",
        "    self.factor = factor\n",
        "\n",
        "  def __call__(self,sample):\n",
        "    inputs,targets = sample\n",
        "    inputs *= self.factor\n",
        "    return inputs,targets"
      ],
      "metadata": {
        "id": "pq0WbJc7Pt4A"
      },
      "execution_count": 29,
      "outputs": []
    },
    {
      "cell_type": "code",
      "source": [
        "print(\"With multiple transform : \")\n",
        "composed = torchvision.transforms.Compose([ToTensor(),MulTransform(3)])\n",
        "dataset = WineDataset(transform=composed)\n",
        "first_data = dataset[0]\n",
        "features,labels = first_data\n",
        "print(type(features),type(labels))\n",
        "print(features,labels)"
      ],
      "metadata": {
        "colab": {
          "base_uri": "https://localhost:8080/"
        },
        "id": "dpf21kkXSQDQ",
        "outputId": "4f94fc7f-67cc-4843-ac69-cb68e32aea2f"
      },
      "execution_count": 30,
      "outputs": [
        {
          "output_type": "stream",
          "name": "stdout",
          "text": [
            "With multiple transform : \n",
            "<class 'torch.Tensor'> <class 'torch.Tensor'>\n",
            "tensor([4.2690e+01, 5.1300e+00, 7.2900e+00, 4.6800e+01, 3.8100e+02, 8.4000e+00,\n",
            "        9.1800e+00, 8.4000e-01, 6.8700e+00, 1.6920e+01, 3.1200e+00, 1.1760e+01,\n",
            "        3.1950e+03]) tensor([1.])\n"
          ]
        }
      ]
    }
  ]
}